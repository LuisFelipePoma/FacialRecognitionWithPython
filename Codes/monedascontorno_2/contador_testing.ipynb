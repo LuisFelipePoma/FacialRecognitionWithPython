{
 "cells": [
  {
   "cell_type": "code",
   "execution_count": 4,
   "outputs": [],
   "source": [
    "import cv2\n",
    "import numpy as np"
   ],
   "metadata": {
    "collapsed": false
   }
  },
  {
   "cell_type": "code",
   "execution_count": 19,
   "metadata": {
    "collapsed": true
   },
   "outputs": [],
   "source": [
    "valorGauss = 1\n",
    "valorKernel = 10"
   ]
  },
  {
   "cell_type": "code",
   "execution_count": 20,
   "outputs": [
    {
     "data": {
      "text/plain": "-1"
     },
     "execution_count": 20,
     "metadata": {},
     "output_type": "execute_result"
    }
   ],
   "source": [
    "original = cv2.imread('monedassoles.jpg')\n",
    "gris = cv2.cvtColor(original, cv2.COLOR_BGR2GRAY)\n",
    "gauss = cv2.GaussianBlur(gris, (valorGauss, valorGauss), 0)\n",
    "canny = cv2.Canny(gauss, 60, 100)\n",
    "kernel = np.ones((valorKernel, valorKernel), np.uint8)\n",
    "cierre = cv2.morphologyEx(canny, cv2.MORPH_CLOSE, kernel)\n",
    "cv2.imshow(\"cierre\",cierre)\n",
    "cv2.waitKey(0)"
   ],
   "metadata": {
    "collapsed": false
   }
  },
  {
   "cell_type": "code",
   "execution_count": 5,
   "outputs": [
    {
     "name": "stdout",
     "output_type": "stream",
     "text": [
      "monedas encontradas: 9\n"
     ]
    },
    {
     "data": {
      "text/plain": "array([[[ 1, -1, -1, -1],\n        [ 2,  0, -1, -1],\n        [ 3,  1, -1, -1],\n        [ 4,  2, -1, -1],\n        [ 5,  3, -1, -1],\n        [ 6,  4, -1, -1],\n        [ 7,  5, -1, -1],\n        [ 8,  6, -1, -1],\n        [-1,  7, -1, -1]]], dtype=int32)"
     },
     "execution_count": 5,
     "metadata": {},
     "output_type": "execute_result"
    }
   ],
   "source": [
    "contornos, jerarquía = cv2.findContours(cierre.copy(), cv2.RETR_EXTERNAL, cv2.CHAIN_APPROX_SIMPLE)\n",
    "print(\"monedas encontradas: {}\".format(len(contornos)))\n",
    "cv2.drawContours(original, contornos, -1, (0, 0, 255), 2)\n",
    "jerarquía"
   ],
   "metadata": {
    "collapsed": false
   }
  },
  {
   "cell_type": "code",
   "execution_count": 6,
   "outputs": [
    {
     "data": {
      "text/plain": "32"
     },
     "execution_count": 6,
     "metadata": {},
     "output_type": "execute_result"
    }
   ],
   "source": [
    "# Mostrar resultados\n",
    "# cv2.imshow(\"Grises\",gris)\n",
    "# cv2.imshow(\"gauss\",gauss)\n",
    "# cv2.imshow(\"canny\",canny)\n",
    "# cv2.imshow(\"cierre\",cierre)\n",
    "\n",
    "\n",
    "cv2.imshow(\"Resultado\", original)\n",
    "cv2.waitKey(0)\n"
   ],
   "metadata": {
    "collapsed": false
   }
  }
 ],
 "metadata": {
  "kernelspec": {
   "display_name": "Python 3",
   "language": "python",
   "name": "python3"
  },
  "language_info": {
   "codemirror_mode": {
    "name": "ipython",
    "version": 2
   },
   "file_extension": ".py",
   "mimetype": "text/x-python",
   "name": "python",
   "nbconvert_exporter": "python",
   "pygments_lexer": "ipython2",
   "version": "2.7.6"
  }
 },
 "nbformat": 4,
 "nbformat_minor": 0
}
